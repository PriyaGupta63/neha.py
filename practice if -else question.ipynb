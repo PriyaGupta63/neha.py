{
 "cells": [
  {
   "cell_type": "markdown",
   "metadata": {},
   "source": [
    "write a program to check wether a person is eligible for voting or not"
   ]
  },
  {
   "cell_type": "code",
   "execution_count": 4,
   "metadata": {},
   "outputs": [
    {
     "name": "stdout",
     "output_type": "stream",
     "text": [
      "sorry for not voting here\n"
     ]
    }
   ],
   "source": [
    "age  = int(input('enter the voting age her'))\n",
    "if age >=20:\n",
    "    print('eligible for voting here')\n",
    "else:\n",
    "    print('sorry for not voting here')  \n",
    "    \n",
    "      "
   ]
  },
  {
   "cell_type": "markdown",
   "metadata": {},
   "source": [
    "write a program to pint \"hello\" if the number entered by the user is divisble by 5 else print \"bye\""
   ]
  },
  {
   "cell_type": "code",
   "execution_count": 11,
   "metadata": {},
   "outputs": [
    {
     "name": "stdout",
     "output_type": "stream",
     "text": [
      "bye\n"
     ]
    }
   ],
   "source": [
    "a = int(input(\"enter the number\"))\n",
    "if a%5==0:\n",
    "    print(\"hello\")\n",
    "else :\n",
    "    print(\"bye\")    "
   ]
  },
  {
   "cell_type": "code",
   "execution_count": 12,
   "metadata": {},
   "outputs": [
    {
     "name": "stdout",
     "output_type": "stream",
     "text": [
      "eligible for voting age here\n"
     ]
    }
   ],
   "source": [
    "age = int(input('enter a voting age here'))\n",
    "if age>=20:\n",
    "    print(\"eligible for voting age here\")\n",
    "else:\n",
    "    print(\"sorrry for not eligible voting here\")    "
   ]
  },
  {
   "cell_type": "code",
   "execution_count": 15,
   "metadata": {},
   "outputs": [
    {
     "name": "stdout",
     "output_type": "stream",
     "text": [
      "hello\n"
     ]
    }
   ],
   "source": [
    "a = int(input('enter a number'))\n",
    "if a % 5==0:\n",
    "    print(\"hello\")\n",
    "else:\n",
    "    print(\"bye\")    "
   ]
  },
  {
   "cell_type": "markdown",
   "metadata": {},
   "source": [
    "write a program to display the largest digit of a number"
   ]
  },
  {
   "cell_type": "code",
   "execution_count": 1,
   "metadata": {},
   "outputs": [
    {
     "name": "stdout",
     "output_type": "stream",
     "text": [
      "highest value of c\n"
     ]
    }
   ],
   "source": [
    "a = int(input(\"enter a first number\"))\n",
    "b = int(input(\"enter a second number\"))\n",
    "c = int(input(\"enter the third number\"))\n",
    "if a>b and b<a:\n",
    "    print(\"highest value of a\")\n",
    "elif a<b and a>b:\n",
    "    print(\"highest value of b\")  \n",
    "elif c>a and b<c:\n",
    "    print(\"highest value of c\")\n",
    "else:\n",
    "    print(\"invalid input\")          \n",
    "     "
   ]
  },
  {
   "cell_type": "markdown",
   "metadata": {},
   "source": [
    "A triangle is valid if the sum of all the three angles is equal to 180 degrees. Write a program that asks the user to enter three integers as angles and check whether a triangle is valid or not."
   ]
  },
  {
   "cell_type": "code",
   "execution_count": null,
   "metadata": {},
   "outputs": [],
   "source": []
  }
 ],
 "metadata": {
  "kernelspec": {
   "display_name": "Python 3",
   "language": "python",
   "name": "python3"
  },
  "language_info": {
   "codemirror_mode": {
    "name": "ipython",
    "version": 3
   },
   "file_extension": ".py",
   "mimetype": "text/x-python",
   "name": "python",
   "nbconvert_exporter": "python",
   "pygments_lexer": "ipython3",
   "version": "3.11.4"
  },
  "orig_nbformat": 4
 },
 "nbformat": 4,
 "nbformat_minor": 2
}
