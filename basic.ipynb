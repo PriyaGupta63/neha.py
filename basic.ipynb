{
 "cells": [
  {
   "cell_type": "code",
   "execution_count": 3,
   "metadata": {},
   "outputs": [
    {
     "name": "stdout",
     "output_type": "stream",
     "text": [
      "you entered 5\n"
     ]
    }
   ],
   "source": [
    "user_number =int(input('enter a number'))\n",
    "if user_number == int(user_number):\n",
    "    print('you entered', user_number)\n",
    "else:\n",
    "    print('invalid input') \n",
    "       "
   ]
  },
  {
   "cell_type": "code",
   "execution_count": 5,
   "metadata": {},
   "outputs": [
    {
     "name": "stdout",
     "output_type": "stream",
     "text": [
      "Name\n",
      "Is\n",
      "James this is NameIsJames\n"
     ]
    }
   ],
   "source": [
    "string_1 = \"Name\"\n",
    "string_2 = \"Is\"\n",
    "string_3 = \"James\"\n",
    "print(string_1)\n",
    "print(string_2)\n",
    "print(string_3 , \"this is NameIsJames\")  \n",
    "\n"
   ]
  },
  {
   "cell_type": "code",
   "execution_count": 19,
   "metadata": {},
   "outputs": [
    {
     "name": "stdout",
     "output_type": "stream",
     "text": [
      "0\n",
      "2\n",
      "4\n",
      "6\n",
      "8\n",
      "10\n",
      "12\n",
      "14\n",
      "16\n",
      "18\n"
     ]
    }
   ],
   "source": [
    "num = int(input('enter any number'))\n",
    "for i in range (num):\n",
    "    if i%2 == 0:\n",
    "        print(i)    \n"
   ]
  },
  {
   "cell_type": "code",
   "execution_count": 25,
   "metadata": {},
   "outputs": [
    {
     "name": "stdout",
     "output_type": "stream",
     "text": [
      "0\n",
      "2\n",
      "4\n",
      "6\n",
      "8\n",
      "10\n",
      "12\n",
      "14\n",
      "16\n",
      "18\n"
     ]
    }
   ],
   "source": [
    "num = int(input('enter any number'))\n",
    "for i in range (num):\n",
    "    if i%2 == 0:\n",
    "        print(i)"
   ]
  },
  {
   "cell_type": "code",
   "execution_count": 27,
   "metadata": {},
   "outputs": [
    {
     "name": "stdout",
     "output_type": "stream",
     "text": [
      "name\n",
      "IS\n",
      "James this is namesisjames\n"
     ]
    }
   ],
   "source": [
    "string_1 = \"name\"\n",
    "string_2 = \"IS\"\n",
    "string_3 = \"James\"\n",
    "print(string_1)\n",
    "print(string_2)\n",
    "print(string_3 , 'this is namesisjames')"
   ]
  },
  {
   "cell_type": "code",
   "execution_count": 4,
   "metadata": {},
   "outputs": [],
   "source": [
    "strings = input('enter the three strings')\n",
    "if (strings) == (3):\n",
    "    print(3)\n",
    "    "
   ]
  },
  {
   "cell_type": "code",
   "execution_count": null,
   "metadata": {},
   "outputs": [],
   "source": []
  }
 ],
 "metadata": {
  "kernelspec": {
   "display_name": "Python 3",
   "language": "python",
   "name": "python3"
  },
  "language_info": {
   "codemirror_mode": {
    "name": "ipython",
    "version": 3
   },
   "file_extension": ".py",
   "mimetype": "text/x-python",
   "name": "python",
   "nbconvert_exporter": "python",
   "pygments_lexer": "ipython3",
   "version": "3.11.4"
  },
  "orig_nbformat": 4
 },
 "nbformat": 4,
 "nbformat_minor": 2
}
