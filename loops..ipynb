{
 "cells": [
  {
   "cell_type": "markdown",
   "metadata": {},
   "source": [
    "# Write a program to print all even numbers from 1 to n."
   ]
  },
  {
   "cell_type": "code",
   "execution_count": 4,
   "metadata": {},
   "outputs": [
    {
     "name": "stdout",
     "output_type": "stream",
     "text": [
      "0\n",
      "2\n",
      "4\n",
      "6\n",
      "8\n",
      "10\n",
      "12\n",
      "14\n",
      "16\n",
      "18\n"
     ]
    }
   ],
   "source": [
    "num = int(input('enter any number'))\n",
    "for i in range(num):\n",
    "    if i%2 == 0:\n",
    "        print(i)        "
   ]
  },
  {
   "cell_type": "markdown",
   "metadata": {},
   "source": [
    "# Question Padho kya likha hai\n",
    "# Even numbers kya hotae hai?\n",
    "ok sir krti hu\n",
    "Samajh mae aaya?\n",
    "Prji sir\n",
    "Practice kro \n",
    "Bahut jarurat hai\n",
    "\n",
    "ok sir "
   ]
  },
  {
   "cell_type": "markdown",
   "metadata": {},
   "source": [
    "# Loop Question\n",
    "* Exercise 1: Print First 10 natural numbers using while loop\n",
    "* Exercise 2: Print the following pattern\n",
    "* Exercise 3: Calculate the sum of all numbers from 1 to a given number\n",
    "* Exercise 4: Write a program to print multiplication table of a given number\n",
    "* Exercise 5: Display numbers from a list using loop\n",
    "* Exercise 6: Count the total number of digits in a number\n",
    "* Exercise 7: Print the following pattern\n",
    "* Exercise 8: Print list in reverse order using a loop\n",
    "* Exercise 9: Display numbers from -10 to -1 using for loop\n",
    "* Exercise 10: Use else block to display a message “Done” after successful execution of for loop\n",
    "* Exercise 11: Write a program to display all prime numbers within a range\n",
    "* Exercise 12: Display Fibonacci series up to 10 terms\n",
    "* Exercise 13: Find the factorial of a given number\n",
    "* Exercise 14: Reverse a given integer number\n",
    "* Exercise 15: Use a loop to display elements from a given list present at odd index positions\n",
    "* Exercise 16: Calculate the cube of all numbers from 1 to a given number\n",
    "* Exercise 17: Find the sum of the series upto n terms\n",
    "* Exercise 18: Print the following pattern"
   ]
  },
  {
   "cell_type": "markdown",
   "metadata": {},
   "source": [
    "# Basic Question\n",
    "* Exercise 1: Accept numbers from a user\n",
    "* Exercise 2: Display three string “Name”, “Is”, “James” as “Name**Is**James”\n",
    "* Exercise 3: Convert Decimal number to octal using print() output formatting\n",
    "* Exercise 4: Display float number with 2 decimal places using print()\n",
    "* Exercise 5: Accept a list of 5 float numbers as an input from the user\n",
    "* Exercise 6: Write all content of a given file into a new file by skipping line number 5\n",
    "* Exercise 7: Accept any three string from one input() call\n",
    "* Exercise 8: Format variables using a string.format() method.\n",
    "* Exercise 9: Check file is empty or not\n",
    "* Exercise 10: Read line number 4 from the following file"
   ]
  },
  {
   "cell_type": "markdown",
   "metadata": {},
   "source": []
  },
  {
   "cell_type": "code",
   "execution_count": null,
   "metadata": {},
   "outputs": [],
   "source": []
  }
 ],
 "metadata": {
  "kernelspec": {
   "display_name": "Python 3",
   "language": "python",
   "name": "python3"
  },
  "language_info": {
   "codemirror_mode": {
    "name": "ipython",
    "version": 3
   },
   "file_extension": ".py",
   "mimetype": "text/x-python",
   "name": "python",
   "nbconvert_exporter": "python",
   "pygments_lexer": "ipython3",
   "version": "3.11.4"
  },
  "orig_nbformat": 4
 },
 "nbformat": 4,
 "nbformat_minor": 2
}
