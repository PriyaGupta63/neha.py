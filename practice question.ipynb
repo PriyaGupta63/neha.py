{
 "cells": [
  {
   "cell_type": "code",
   "execution_count": 2,
   "metadata": {},
   "outputs": [
    {
     "name": "stdout",
     "output_type": "stream",
     "text": [
      "0\n",
      "1\n",
      "2\n",
      "3\n",
      "4\n",
      "5\n",
      "6\n",
      "7\n",
      "8\n",
      "9\n",
      "10\n"
     ]
    }
   ],
   "source": [
    "num = 10\n",
    "count = 0\n",
    "for i in range (11):\n",
    "    num=+1\n",
    "    count=+1\n",
    "    print(i)"
   ]
  },
  {
   "cell_type": "code",
   "execution_count": 8,
   "metadata": {},
   "outputs": [
    {
     "name": "stdout",
     "output_type": "stream",
     "text": [
      "2 x 0 = 0\n",
      "2 x 1 = 2\n",
      "2 x 2 = 4\n",
      "2 x 3 = 6\n",
      "2 x 4 = 8\n",
      "2 x 5 = 10\n",
      "2 x 6 = 12\n",
      "2 x 7 = 14\n",
      "2 x 8 = 16\n",
      "2 x 9 = 18\n"
     ]
    }
   ],
   "source": [
    "for x in range(10):\n",
    "    print(2,\"x\",x,\"=\",2*x)"
   ]
  },
  {
   "cell_type": "code",
   "execution_count": 16,
   "metadata": {},
   "outputs": [
    {
     "name": "stdout",
     "output_type": "stream",
     "text": [
      "1\n"
     ]
    }
   ],
   "source": [
    "# calculate the sum of all number from 1 to agiven number\n",
    "num = 1\n",
    "sum = 0\n",
    "for i in range (1,num+1):\n",
    "    print(num)\n",
    "    sum += (i)\n",
    "    \n"
   ]
  },
  {
   "cell_type": "code",
   "execution_count": 27,
   "metadata": {},
   "outputs": [
    {
     "name": "stdout",
     "output_type": "stream",
     "text": [
      " sum is first  10 the natural number is: 1\n",
      " sum is first  10 the natural number is: 3\n",
      " sum is first  10 the natural number is: 6\n",
      " sum is first  10 the natural number is: 10\n",
      " sum is first  10 the natural number is: 15\n",
      " sum is first  10 the natural number is: 21\n",
      " sum is first  10 the natural number is: 28\n",
      " sum is first  10 the natural number is: 36\n",
      " sum is first  10 the natural number is: 45\n",
      " sum is first  10 the natural number is: 55\n"
     ]
    }
   ],
   "source": [
    "num = int(input('enter a number'))\n",
    "sum = 0\n",
    "for i in range (1, num+1):\n",
    "    sum += i\n",
    "    \n",
    "    print(\" sum is first \", num , \"the natural number is:\" , sum )"
   ]
  },
  {
   "cell_type": "code",
   "execution_count": 28,
   "metadata": {},
   "outputs": [
    {
     "name": "stdout",
     "output_type": "stream",
     "text": [
      "3 x 0 = 0\n",
      "3 x 1 = 3\n",
      "3 x 2 = 6\n",
      "3 x 3 = 9\n",
      "3 x 4 = 12\n",
      "3 x 5 = 15\n",
      "3 x 6 = 18\n",
      "3 x 7 = 21\n",
      "3 x 8 = 24\n",
      "3 x 9 = 27\n"
     ]
    }
   ],
   "source": [
    "for x in range (10):\n",
    "    print(3,\"x\",x,\"=\",3*x)"
   ]
  },
  {
   "cell_type": "code",
   "execution_count": 39,
   "metadata": {},
   "outputs": [
    {
     "name": "stdout",
     "output_type": "stream",
     "text": [
      "1\n",
      "3\n",
      "4\n",
      "6\n",
      "7\n",
      "89\n"
     ]
    }
   ],
   "source": [
    "num = [1,3,4,6,7,89]\n",
    "for i in num :\n",
    "    print(i)"
   ]
  },
  {
   "cell_type": "markdown",
   "metadata": {},
   "source": [
    "Write a program to check weather a person is eligeble for voting or not"
   ]
  },
  {
   "cell_type": "code",
   "execution_count": 1,
   "metadata": {},
   "outputs": [
    {
     "name": "stdout",
     "output_type": "stream",
     "text": [
      "Sorry Voter are not eligeble for voting right now !\n"
     ]
    }
   ],
   "source": [
    "age = int(input('Enter voter age here : '))\n",
    "\n",
    "if age>=18:\n",
    "    print('Voter is eligeble for voting !')\n",
    "else:\n",
    "    print('Sorry Voter are not eligeble for voting right now !')"
   ]
  },
  {
   "cell_type": "markdown",
   "metadata": {},
   "source": [
    "write a program to print \"hello\" if the the number entered by the user  is divisible by 5 else print \"bye\"\n"
   ]
  },
  {
   "cell_type": "code",
   "execution_count": 49,
   "metadata": {},
   "outputs": [
    {
     "name": "stdout",
     "output_type": "stream",
     "text": [
      "bye\n"
     ]
    }
   ],
   "source": [
    "b = int(input(\"enter a number\"))\n",
    "if b %5== 0:\n",
    "\n",
    "    print('hello')\n",
    "else:\n",
    "    print(\"bye\")    "
   ]
  },
  {
   "cell_type": "markdown",
   "metadata": {},
   "source": [
    "write a program to display the largest digit of a number"
   ]
  },
  {
   "cell_type": "code",
   "execution_count": 57,
   "metadata": {},
   "outputs": [
    {
     "name": "stdout",
     "output_type": "stream",
     "text": [
      "  greater than b\n"
     ]
    }
   ],
   "source": [
    "b = int(input('enter the first number'))\n",
    "c = int(input('enter the second number'))\n",
    "d = int(input('enter the third number'))\n",
    "if c>b and b<c:\n",
    "    print( \"  greater than b\")\n",
    "elif c<b and c<d:\n",
    "    print( \"  greater than c \") \n",
    "elif d>c and c<d:\n",
    "    print(\"dgreater than d\")\n",
    "else:\n",
    "    print(\"invalid input\")            "
   ]
  },
  {
   "cell_type": "code",
   "execution_count": 65,
   "metadata": {},
   "outputs": [
    {
     "name": "stdout",
     "output_type": "stream",
     "text": [
      "not leap year\n"
     ]
    }
   ],
   "source": [
    "weather = int(input('enter the year'))\n",
    "if weather == 30:\n",
    "\n",
    "    print('leap year')\n",
    "    \n",
    "else:\n",
    "    print(\"not leap year\")\n"
   ]
  },
  {
   "cell_type": "code",
   "execution_count": 67,
   "metadata": {},
   "outputs": [
    {
     "name": "stdout",
     "output_type": "stream",
     "text": [
      "odd\n"
     ]
    }
   ],
   "source": [
    "a = int(input(\"enter a number\"))\n",
    "if a % 2 == 0:\n",
    "    print(\"even\")\n",
    "else:\n",
    "    print(\"odd\")    "
   ]
  },
  {
   "cell_type": "markdown",
   "metadata": {},
   "source": [
    "Write a program to check whether a number is even or odd.\n"
   ]
  },
  {
   "cell_type": "markdown",
   "metadata": {},
   "source": []
  },
  {
   "cell_type": "code",
   "execution_count": 70,
   "metadata": {},
   "outputs": [
    {
     "name": "stdout",
     "output_type": "stream",
     "text": [
      "even\n"
     ]
    }
   ],
   "source": [
    "a = int(input('enter the number'))\n",
    "if a%2 == 0:\n",
    "    print('even')\n",
    "else:\n",
    "    print(\"odd\")     "
   ]
  },
  {
   "cell_type": "markdown",
   "metadata": {},
   "source": [
    "#Vowels and Consonants"
   ]
  },
  {
   "cell_type": "code",
   "execution_count": 87,
   "metadata": {},
   "outputs": [
    {
     "ename": "AttributeError",
     "evalue": "'str' object has no attribute 'lowere'",
     "output_type": "error",
     "traceback": [
      "\u001b[1;31m---------------------------------------------------------------------------\u001b[0m",
      "\u001b[1;31mAttributeError\u001b[0m                            Traceback (most recent call last)",
      "Cell \u001b[1;32mIn[87], line 3\u001b[0m\n\u001b[0;32m      1\u001b[0m char \u001b[39m=\u001b[39m\u001b[39minput\u001b[39m((\u001b[39m'\u001b[39m\u001b[39menter inputthe char:,\u001b[39m\u001b[39m'\u001b[39m))\n\u001b[1;32m----> 3\u001b[0m \u001b[39mif\u001b[39;00m char\u001b[39m.\u001b[39;49mlowere()\u001b[39m==\u001b[39m \u001b[39m\"\u001b[39m\u001b[39mA\u001b[39m\u001b[39m\"\u001b[39m \u001b[39mor\u001b[39;00m char\u001b[39m.\u001b[39mlower()\u001b[39m==\u001b[39m \u001b[39m\"\u001b[39m\u001b[39mE\u001b[39m\u001b[39m\"\u001b[39m \u001b[39mor\u001b[39;00m char\u001b[39m.\u001b[39mlower()\u001b[39m==\u001b[39m \u001b[39m\"\u001b[39m\u001b[39mI\u001b[39m\u001b[39m\"\u001b[39m \u001b[39mor\u001b[39;00m char\u001b[39m.\u001b[39mlower()\u001b[39m==\u001b[39m \u001b[39m\"\u001b[39m\u001b[39mo\u001b[39m\u001b[39m\"\u001b[39m \u001b[39mor\u001b[39;00m char\u001b[39m.\u001b[39mlower()\u001b[39m==\u001b[39m \u001b[39m\"\u001b[39m\u001b[39mU\u001b[39m\u001b[39m\"\u001b[39m:\n\u001b[0;32m      5\u001b[0m     \u001b[39mprint\u001b[39m(\u001b[39m'\u001b[39m\u001b[39mvowels\u001b[39m\u001b[39m'\u001b[39m)\n\u001b[0;32m      6\u001b[0m \u001b[39melse\u001b[39;00m:\n",
      "\u001b[1;31mAttributeError\u001b[0m: 'str' object has no attribute 'lowere'"
     ]
    }
   ],
   "source": [
    "\n"
   ]
  },
  {
   "cell_type": "markdown",
   "metadata": {},
   "source": []
  },
  {
   "cell_type": "markdown",
   "metadata": {},
   "source": []
  }
 ],
 "metadata": {
  "kernelspec": {
   "display_name": "Python 3",
   "language": "python",
   "name": "python3"
  },
  "language_info": {
   "codemirror_mode": {
    "name": "ipython",
    "version": 3
   },
   "file_extension": ".py",
   "mimetype": "text/x-python",
   "name": "python",
   "nbconvert_exporter": "python",
   "pygments_lexer": "ipython3",
   "version": "3.11.4"
  },
  "orig_nbformat": 4
 },
 "nbformat": 4,
 "nbformat_minor": 2
}
